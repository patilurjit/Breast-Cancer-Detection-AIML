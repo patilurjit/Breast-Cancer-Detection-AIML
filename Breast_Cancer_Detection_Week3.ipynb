{
 "cells": [
  {
   "cell_type": "markdown",
   "metadata": {},
   "source": [
    "# Parameters\n",
    "1. diagnosis - the diagnosis of breast tissues (M = malignant, B = benign)\n",
    "2. radius_mean - mean of distances from center to points on the perimeter\n",
    "3. texture_mean - standard deviation of gray-scale values\n",
    "4. perimeter_mean - mean size of the core tumor\n",
    "5. area_mean - mean area of the core tumor\n",
    "6. smoothness_mean - mean of local variation in radius lengths\n",
    "7. compactness_mean - mean of perimeter^2 / area - 1.0\n",
    "8. concavity_mean - mean of severity of concave portions of the contour\n",
    "9. concave points_mean - mean for number of concave portions of the contour\n",
    "10. symmetry_mean - \n",
    "11. fractal_dimension_mean - mean for \"coastline approximation\" - 1\n",
    "12. radius_se - standard error for the mean of distances from center to points on the perimeter\n",
    "13. texture_se - standard error for standard deviation of gray-scale values\n",
    "14. perimeter_se - standard error for standard deviation of perimeter values\n",
    "15. area_se - standard error for standard deviation of area values\n",
    "16. smoothness_se - standard error for local variation in radius lengths\n",
    "17. compactness_se - standard error for perimeter^2 / area - 1.0\n",
    "18. concavity_se - standard error for severity of concave portions of the contour\n",
    "20. concave points_se - standard error for number of concave portions of the contour\n",
    "21. symmetry_se - \n",
    "22. fractal_dimension_se - standard error for \"coastline approximation\" - 1\n",
    "23. radius_worst - \"worst\" or largest mean value for mean of distances from center to points on the perimeter\n",
    "24. texture_worst - \"worst\" or largest mean value for standard deviation of gray-scale values\n",
    "25. perimeter_worst - \"worst\" or largest mean value for standard deviation of perimeter values\n",
    "26. area_worst - \"worst\" or largest mean value for standard deviation of area values\n",
    "27. smoothness_worst - \"worst\" or largest mean value for local variation in radius lengths\n",
    "28. compactness_worst - \"worst\" or largest mean value for perimeter^2 / area - 1.0\n",
    "29. concavity_worst - \"worst\" or largest mean value for severity of concave portions of the contour\n",
    "30. concave points_worst - \"worst\" or largest mean value for number of concave portions of the contour\n",
    "31. symmetry_worst - \n",
    "32. fractal_dimension_worst - \"worst\" or largest mean value for \"coastline approximation\" - 1"
   ]
  },
  {
   "cell_type": "markdown",
   "metadata": {},
   "source": [
    "Could not find what the variables realted to symmetry signify but found this hypothesis about the symmetry of breast tissue.\n",
    "\n",
    "# \"In the past, asymmetric breast tissue was typically regarded as a sign of malignancy, whereas now it is nearly always regarded as benign.\""
   ]
  },
  {
   "cell_type": "markdown",
   "metadata": {},
   "source": [
    "# Gaussian Distribution :\n",
    "Gaussian Distribution is also known as Normal Distribution. It is a probability distribution that is symmetric abput the mean. When graphed, the Gaussian Distribution takes the shape of a bell curve. This shows that the observations near the mean have a higher chance of occuring than the observations away from the mean. For a normal distribution, 68% of the observations are within +/- one standard deviation of the mean, 95% are within +/- two standard deviations, and 99.7% are within +/- three standard deviations. The normal distribution is the most commonly used distribution.\n",
    "\n",
    "# Binomial Distribution :\n",
    "The Binomial Distribution is a probability distribution that predicts the likelihood that a value will take one of the two values in a set of assumptions. The underlying assumptions of the binomial distribution are that there is only one outcome for each trial, that each trial has the same probability of success, and that each trial is mutually exclusive, or independent of each other. The binomial distribution only counts two states, typically represented as 1 (for a success) or 0 (for a failure) given a number of trials in the data. "
   ]
  },
  {
   "cell_type": "markdown",
   "metadata": {},
   "source": [
    "# Difference between Gaussian and Binomial Distribution :\n",
    "The main difference between normal distribution and binomial distribution is binomial distribution is discrete. This means that in binomial distribution there are no data points between any two data points. This is very different from a normal distribution which has continuous data points. There are a finite amount of events in a binomial distribution, but an infinite number in a normal distribution.But, if the sample size for binomial distribution is large enough, its shape will be quite similar to that of normal distribution."
   ]
  },
  {
   "cell_type": "markdown",
   "metadata": {},
   "source": [
    "# Logistic Regression :\n",
    "Logistic Regression is used to perform binary classification. The \"logit\" function is used in Logistic Regression. The logit function is called the link function because it “links” the probability to the linear function of the predictor variables. The name \"Logistic\" Regression is because of the use of the logit function. It predicts the probability of an observation belonging to any of the two target classes. \n",
    "\n",
    "# Decision Tree Classifier :\n",
    "Decision Tree identifies the most significant variable and its value that gives the best homogenous sets of population. It splits the observations in such a way that the homogenity between the split sets is maximised. The aim is to increase the homogenity which can also be interpreted as reducing the impurity. If there is a high non linearity and complex relationship between dependent and independent variables, a tree model will outperform a regression method. The commonly used splitting measures for a decision tree are Gini index, Chi-square, Information gain (Entropy) and Reduction in variance. \n",
    "\n",
    "# Random Forest Classifier :\n",
    "The random forest is a classification algorithm consisting of many decisions trees. It operates by constructing multiple decision trees at training time and outputting the class that is the mode of the classes of the individual trees. It is a type of \"ensemble\" learning method. The idea behind Random Forest is that a large number of tress working together will outperform any individual tree. The reason for this is that the trees protect each other from their individual errors."
   ]
  }
 ],
 "metadata": {
  "kernelspec": {
   "display_name": "Python 3",
   "language": "python",
   "name": "python3"
  },
  "language_info": {
   "codemirror_mode": {
    "name": "ipython",
    "version": 3
   },
   "file_extension": ".py",
   "mimetype": "text/x-python",
   "name": "python",
   "nbconvert_exporter": "python",
   "pygments_lexer": "ipython3",
   "version": "3.7.6"
  }
 },
 "nbformat": 4,
 "nbformat_minor": 4
}
